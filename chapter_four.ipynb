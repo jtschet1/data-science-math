{
 "cells": [
  {
   "cell_type": "markdown",
   "metadata": {},
   "source": [
    "** Linear Algebra **\n",
    "Linear Algebra is a branch of mathematics that deals with vectors and matrices. It is used in various fields such as machine learning, computer graphics, cryptography, and engineering. In this notebook, we will discuss some basic concepts of linear algebra and how to implement them in Python.\n"
   ]
  },
  {
   "cell_type": "markdown",
   "metadata": {},
   "source": [
    "What is a vector\n",
    "A vector is a quantity that has both magnitude and direction. It is represented by an arrow in space. In linear algebra, a vector is represented as an array of numbers. For example, the vector v = [1, 2, 3] has three components and is represented as a column vector:"
   ]
  },
  {
   "cell_type": "code",
   "execution_count": 1,
   "metadata": {},
   "outputs": [
    {
     "name": "stdout",
     "output_type": "stream",
     "text": [
      "[3, 2]\n"
     ]
    }
   ],
   "source": [
    "v = [3, 2]\n",
    "print(v)"
   ]
  },
  {
   "cell_type": "code",
   "execution_count": 2,
   "metadata": {},
   "outputs": [
    {
     "name": "stdout",
     "output_type": "stream",
     "text": [
      "[3 2]\n"
     ]
    }
   ],
   "source": [
    "import numpy as np\n",
    "v = np.array([3, 2])\n",
    "print(v)"
   ]
  },
  {
   "cell_type": "code",
   "execution_count": 3,
   "metadata": {},
   "outputs": [
    {
     "name": "stdout",
     "output_type": "stream",
     "text": [
      "[4 1 2]\n"
     ]
    }
   ],
   "source": [
    "import numpy as np\n",
    "v = np.array([4, 1, 2])\n",
    "print(v)"
   ]
  },
  {
   "cell_type": "code",
   "execution_count": 4,
   "metadata": {},
   "outputs": [
    {
     "name": "stdout",
     "output_type": "stream",
     "text": [
      "[6 1 5 8 3]\n"
     ]
    }
   ],
   "source": [
    "import numpy as np\n",
    "v = np.array([6, 1, 5, 8, 3])\n",
    "print(v)"
   ]
  },
  {
   "cell_type": "markdown",
   "metadata": {},
   "source": [
    "Adding and combining vectors\n",
    "Vectors can be added together by adding their corresponding components. For example, if v = [1, 2, 3] and w = [4, 5, 6], then the sum of v and w is [1+4, 2+5, 3+6] = [5, 7, 9]. We can also combine vectors by concatenating their components. For example, if v = [1, 2, 3] and w = [4, 5, 6], then the combination of v and w is [1, 2, 3, 4, 5, 6]."
   ]
  },
  {
   "cell_type": "code",
   "execution_count": 5,
   "metadata": {},
   "outputs": [
    {
     "name": "stdout",
     "output_type": "stream",
     "text": [
      "[5 1]\n"
     ]
    }
   ],
   "source": [
    "from numpy import array\n",
    "v = array([3,2])\n",
    "w = array([2,-1])\n",
    "# sum the vectors\n",
    "v_plus_w = v + w\n",
    "# display summed vector\n",
    "print(v_plus_w) # [5, 1]"
   ]
  },
  {
   "cell_type": "markdown",
   "metadata": {},
   "source": [
    "Scalar Vectors\n",
    "A scalar is a single number that can be multiplied by a vector to produce a new vector. For example, if v = [1, 2, 3] and s = 2, then the product of s and v is [2*1, 2*2, 2*3] = [2, 4, 6]."
   ]
  },
  {
   "cell_type": "markdown",
   "metadata": {},
   "source": [
    "Span and linear dependence\n",
    "The span of a set of vectors is the set of all possible linear combinations of those vectors. If the span of a set of vectors is the entire space, then the vectors are said to be linearly independent. If the span of a set of vectors is less than the entire space, then the vectors are said to be linearly dependent.\n",
    "\n",
    "Linear Transformations\n",
    "A linear transformation is a function that maps vectors from one space to another while preserving the vector addition and scalar multiplication properties. For example, a rotation or reflection of a vector is a linear transformation.\n",
    "\n",
    "Basis Vectors\n",
    "A basis is a set of linearly independent vectors that span a space. The basis vectors are the vectors that form the basis of the space. For example, the standard basis for a 2D space is the vectors [1, 0] and [0, 1]."
   ]
  },
  {
   "cell_type": "markdown",
   "metadata": {},
   "source": [
    "Matrix Vector Multiplication\n",
    "A matrix is a rectangular array of numbers. A matrix can be multiplied by a vector to produce a new vector. For example, if A is a matrix and v is a vector, then the product of A and v is a new vector w = Av."
   ]
  },
  {
   "cell_type": "code",
   "execution_count": 8,
   "metadata": {},
   "outputs": [
    {
     "name": "stdout",
     "output_type": "stream",
     "text": [
      "[3 2]\n"
     ]
    }
   ],
   "source": [
    "from numpy import array\n",
    "# compose basis matrix with i-hat and j-hat\n",
    "basis = array(\n",
    "[[3, 0],\n",
    "[0, 2]]\n",
    ")\n",
    "# declare vector v\n",
    "v = array([1,1])\n",
    "# create new vector\n",
    "# by transforming v with dot product\n",
    "new_v = basis.dot(v)\n",
    "print(new_v) # [3, 2]"
   ]
  },
  {
   "cell_type": "code",
   "execution_count": 6,
   "metadata": {},
   "outputs": [
    {
     "name": "stdout",
     "output_type": "stream",
     "text": [
      "[2 3]\n"
     ]
    }
   ],
   "source": [
    "from numpy import array\n",
    "# Declare i-hat and j-hat\n",
    "i_hat = array([2, 0])\n",
    "j_hat = array([0, 3])\n",
    "# compose basis matrix using i-hat and j-hat\n",
    "# also need to transpose rows into columns\n",
    "basis = array([i_hat, j_hat]).transpose()\n",
    "# declare vector v\n",
    "v = array([1,1])\n",
    "# create new vector\n",
    "# by transforming v with dot product\n",
    "new_v = basis.dot(v)\n",
    "print(new_v) # [2, 3]"
   ]
  },
  {
   "cell_type": "code",
   "execution_count": 7,
   "metadata": {},
   "outputs": [
    {
     "name": "stdout",
     "output_type": "stream",
     "text": [
      "[4 3]\n"
     ]
    }
   ],
   "source": [
    "from numpy import array\n",
    "# Declare i-hat and j-hat\n",
    "i_hat = array([2, 0])\n",
    "j_hat = array([0, 3])\n",
    "# compose basis matrix using i-hat and j-hat\n",
    "# also need to transpose rows into columns\n",
    "basis = array([i_hat, j_hat]).transpose()\n",
    "# declare vector v 0\n",
    "v = array([2,1])\n",
    "# create new vector\n",
    "# by transforming v with dot product\n",
    "new_v = basis.dot(v)\n",
    "print(new_v) # [4, 3]"
   ]
  },
  {
   "cell_type": "code",
   "execution_count": null,
   "metadata": {},
   "outputs": [],
   "source": [
    "from numpy import array\n",
    "# Declare i-hat and j-hat\n",
    "i_hat = array([2, 3])\n",
    "j_hat = array([2, -1])\n",
    "# compose basis matrix using i-hat and j-hat\n",
    "# also need to transpose rows into columns\n",
    "basis = array([i_hat, j_hat]).transpose()\n",
    "# declare vector v 0\n",
    "v = array([2,1])\n",
    "# create new vector\n",
    "# by transforming v with dot product\n",
    "new_v = basis.dot(v)\n",
    "print(new_v) # [6, 5]"
   ]
  },
  {
   "cell_type": "markdown",
   "metadata": {},
   "source": [
    "Matrix Multiplication\n",
    "Two matrices can be multiplied together if the number of columns in the first matrix is equal to the number of rows in the second matrix. The product of two matrices is a new matrix whose elements are the dot products of the rows of the first matrix and the columns of the second matrix"
   ]
  },
  {
   "cell_type": "code",
   "execution_count": null,
   "metadata": {},
   "outputs": [],
   "source": [
    "from numpy import array\n",
    "# Transformation 1\n",
    "i_hat1 = array([0, 1])\n",
    "j_hat1 = array([-1, 0])\n",
    "transform1 = array([i_hat1, j_hat1]).transpose()\n",
    "# Transformation 2\n",
    "i_hat2 = array([1, 0])\n",
    "j_hat2 = array([1, 1])\n",
    "transform2 = array([i_hat2, j_hat2]).transpose()\n",
    "# Combine Transformations\n",
    "combined = transform2 @ transform1\n",
    "# Test\n",
    "print(\"COMBINED MATRIX:\\n {}\".format(combined))\n",
    "v = array([1, 2])\n",
    "print(combined.dot(v)) # [-1, 1]"
   ]
  },
  {
   "cell_type": "code",
   "execution_count": null,
   "metadata": {},
   "outputs": [],
   "source": [
    "from numpy import array\n",
    "# Transformation 1\n",
    "i_hat1 = array([0, 1])\n",
    "j_hat1 = array([-1, 0])\n",
    "transform1 = array([i_hat1, j_hat1]).transpose()\n",
    "# Transformation 2\n",
    "i_hat2 = array([1, 0])\n",
    "j_hat2 = array([1, 1])\n",
    "transform2 = array([i_hat2, j_hat2]).transpose()\n",
    "# Combine Transformations, apply sheer first and then rotation\n",
    "combined = transform1 @ transform2\n",
    "# Test\n",
    "print(\"COMBINED MATRIX:\\n {}\".format(combined))\n",
    "v = array([1, 2])\n",
    "print(combined.dot(v)) # [-2, 3]"
   ]
  },
  {
   "cell_type": "markdown",
   "metadata": {},
   "source": [
    "Determinants\n",
    "The determinant of a square matrix is a scalar value that can be computed from its elements. The determinant of a 2x2 matrix [a, b; c, d] is ad - bc. The determinant of a 3x3 matrix can be computed using the rule of Sarrus.\n"
   ]
  },
  {
   "cell_type": "code",
   "execution_count": null,
   "metadata": {},
   "outputs": [],
   "source": [
    "from numpy.linalg import det\n",
    "from numpy import array\n",
    "i_hat = array([3, 0])\n",
    "j_hat = array([0, 2])\n",
    "basis = array([i_hat, j_hat]).transpose()\n",
    "determinant = det(basis)\n",
    "print(determinant) # prints 6.0"
   ]
  },
  {
   "cell_type": "code",
   "execution_count": null,
   "metadata": {},
   "outputs": [],
   "source": [
    "from numpy.linalg import det\n",
    "from numpy import array\n",
    "i_hat = array([1, 0])\n",
    "j_hat = array([1, 1])\n",
    "basis = array([i_hat, j_hat]).transpose()\n",
    "determinant = det(basis)\n",
    "print(determinant) # prints 1.0"
   ]
  },
  {
   "cell_type": "code",
   "execution_count": null,
   "metadata": {},
   "outputs": [],
   "source": [
    "from numpy.linalg import det\n",
    "from numpy import array\n",
    "i_hat = array([-2, 1])\n",
    "j_hat = array([1, 2])\n",
    "basis = array([i_hat, j_hat]).transpose()\n",
    "determinant = det(basis)\n",
    "print(determinant) # prints -5.0"
   ]
  },
  {
   "cell_type": "code",
   "execution_count": null,
   "metadata": {},
   "outputs": [],
   "source": [
    "from numpy.linalg import det\n",
    "from numpy import array\n",
    "i_hat = array([-2, 1])\n",
    "j_hat = array([3, -1.5])\n",
    "basis = array([i_hat, j_hat]).transpose()\n",
    "determinant = det(basis)\n",
    "print(determinant) # prints 0.0"
   ]
  },
  {
   "cell_type": "markdown",
   "metadata": {},
   "source": [
    "Special Types of Matrices\n",
    "There are a few notable cases of matrices that we should cover.\n",
    "Square Matrix\n",
    "The square matrix is a matrix that has an equal number of rows and columns:\n",
    "4 2 7\n",
    "5 1 9\n",
    "4 0 1\n",
    "They are primarily used to represent linear transformations and are a requirement for\n",
    "many operations like eigendecomposition.\n",
    "Identity Matrix\n",
    "The identity matrix is a square matrix that has a diagonal of 1s while the other values\n",
    "are 0:\n",
    "1 0 0\n",
    "0 1 0\n",
    "0 0 1\n",
    "What’s the big deal with identity matrices? Well, when you have an identity matrix,\n",
    "you essentially have undone a transformation and found your starting basis vectors.\n",
    "This will play a big role in solving systems of equations in the next section.\n",
    "Inverse Matrix\n",
    "An inverse matrix is a matrix that undoes the transformation of another matrix. Let’s\n",
    "say I have matrix A\n",
    "Diagonal Matrix\n",
    "Similar to the identity matrix is the diagonal matrix, which has a diagonal of nonzero\n",
    "values while the rest of the values are 0. Diagonal matrices are desirable in certain\n",
    "computations because they represent simple scalars being applied to a vector space. It\n",
    "shows up in some linear algebra operations.\n",
    "4 0 0\n",
    "0 2 0\n",
    "0 0 5\n",
    "Triangular Matrix\n",
    "Similar to the diagonal matrix is the triangular matrix, which has a diagonal of\n",
    "nonzero values in front of a triangle of values, while the rest of the values are 0.\n",
    "4 2 9\n",
    "0 1 6\n",
    "0 0 5\n",
    "Triangular matrices are desirable in many numerical analysis tasks, because they\n",
    "typically are easier to solve in systems of equations. They also show up in certain\n",
    "decomposition tasks like LU Decomposition.\n",
    "Sparse Matrix\n",
    "Occasionally, you will run into matrices that are mostly zeroes and have very few\n",
    "nonzero elements. These are called sparse matrices. From a pure mathematical\n",
    "standpoint, they are not terribly interesting. But from a computing standpoint, they\n",
    "provide opportunities to create efficiency. If a matrix has mostly 0s, a sparse matrix\n",
    "implementation will not waste space storing a bunch of 0s, and instead only keep\n",
    "track of the cells that are nonzero.\n",
    "sparse:\n",
    "0 0 0\n",
    "0 0 2\n",
    "0 0 0\n",
    "0 0 0\n",
    "When you have large matrices that are sparse, you might explicitly use a sparse\n",
    "function to create your matrix."
   ]
  },
  {
   "cell_type": "markdown",
   "metadata": {},
   "source": [
    "Systems of Equations and Inverse Matrices\n",
    "One of the most common applications of linear algebra is solving systems of\n",
    "equations. A system of equations is a collection of equations that you solve\n",
    "simultaneously. For example, consider the following system of equations:\n",
    "2x + 3y = 8\n",
    "4x + 5y = 18\n",
    "This system of equations can be represented as a matrix equation Ax = b, where A is\n",
    "the matrix of coefficients, x is the vector of variables, and b is the vector of constants.\n",
    "To solve this system of equations, we can use the inverse of the matrix A. The inverse\n",
    "of a matrix A is denoted as A^-1 and has the property that A * A^-1 = I, where I is the\n",
    "identity matrix. To solve the system of equations Ax = b, we can multiply both sides by\n",
    "the inverse of A to get x = A^-1 * b."
   ]
  },
  {
   "cell_type": "code",
   "execution_count": null,
   "metadata": {},
   "outputs": [],
   "source": [
    "from sympy import *\n",
    "# 4x + 2y + 4z = 44\n",
    "# 5x + 3y + 7z = 56\n",
    "# 9x + 3y + 6z = 72\n",
    "A = Matrix([\n",
    "[4, 2, 4],\n",
    "[5, 3, 7],\n",
    "[9, 3, 6]\n",
    "])\n",
    "# dot product between A and its inverse\n",
    "# will produce identity function\n",
    "inverse = A.inv()\n",
    "identity = inverse * A\n",
    "# prints Matrix([[-1/2, 0, 1/3], [11/2, -2, -4/3], [-2, 1, 1/3]])\n",
    "print(\"INVERSE: {}\".format(inverse))\n",
    "# prints Matrix([[1, 0, 0], [0, 1, 0], [0, 0, 1]])\n",
    "print(\"IDENTITY: {}\".format(identity))"
   ]
  },
  {
   "cell_type": "code",
   "execution_count": null,
   "metadata": {},
   "outputs": [],
   "source": [
    "from numpy import array\n",
    "from numpy.linalg import inv\n",
    "# 4x + 2y + 4z = 44\n",
    "# 5x + 3y + 7z = 56\n",
    "# 9x + 3y + 6z = 72\n",
    "A = array([\n",
    "[4, 2, 4],\n",
    "[5, 3, 7],\n",
    "[9, 3, 6]\n",
    "])\n",
    "B = array([\n",
    "44,\n",
    "56,\n",
    "72\n",
    "])\n",
    "X = inv(A).dot(B)\n",
    "print(X) # [ 2. 34. -8.]"
   ]
  },
  {
   "cell_type": "code",
   "execution_count": null,
   "metadata": {},
   "outputs": [],
   "source": [
    "from sympy import *\n",
    "# 4x + 2y + 4z = 44\n",
    "# 5x + 3y + 7z = 56\n",
    "# 9x + 3y + 6z = 72\n",
    "A = Matrix([\n",
    "[4, 2, 4],\n",
    "[5, 3, 7],\n",
    "[9, 3, 6]\n",
    "])\n",
    "B = Matrix([\n",
    "44,\n",
    "56,\n",
    "72\n",
    ")\n",
    "X = A.inv() * B\n",
    "print(X) # Matrix([[2], [34], [-8]])"
   ]
  },
  {
   "cell_type": "code",
   "execution_count": null,
   "metadata": {},
   "outputs": [],
   "source": [
    "rom numpy import array, diag\n",
    "from numpy.linalg import eig, inv\n",
    "A = array([\n",
    "[1, 2],\n",
    "[4, 5]\n",
    "])\n",
    "eigenvals, eigenvecs = eig(A)\n",
    "print(\"EIGENVALUES\")\n",
    "print(eigenvals)\n",
    "print(\"\\nEIGENVECTORS\")\n",
    "print(eigenvecs)\n",
    "\"\"\"\n",
    "EIGENVALUES\n",
    "[-0.46410162 6.46410162]\n",
    "EIGENVECTORS\n",
    "[[-0.80689822 -0.34372377]\n",
    "[ 0.59069049 -0.9390708 ]]"
   ]
  },
  {
   "cell_type": "code",
   "execution_count": null,
   "metadata": {},
   "outputs": [],
   "source": [
    "from numpy import array, diag\n",
    "from numpy.linalg import eig, inv\n",
    "A = array([\n",
    "[1, 2],\n",
    "[4, 5]\n",
    "])\n",
    "eigenvals, eigenvecs = eig(A)\n",
    "print(\"EIGENVALUES\")\n",
    "print(eigenvals)\n",
    "print(\"\\nEIGENVECTORS\")\n",
    "print(eigenvecs)\n",
    "print(\"\\nREBUILD MATRIX\")\n",
    "Q = eigenvecs\n",
    "R = inv(Q)\n",
    "L = diag(eigenvals)\n",
    "B = Q @ L @ R\n",
    "print(B)"
   ]
  }
 ],
 "metadata": {
  "kernelspec": {
   "display_name": "maths",
   "language": "python",
   "name": "python3"
  },
  "language_info": {
   "codemirror_mode": {
    "name": "ipython",
    "version": 3
   },
   "file_extension": ".py",
   "mimetype": "text/x-python",
   "name": "python",
   "nbconvert_exporter": "python",
   "pygments_lexer": "ipython3",
   "version": "3.12.3"
  }
 },
 "nbformat": 4,
 "nbformat_minor": 2
}
