{
 "cells": [
  {
   "cell_type": "markdown",
   "metadata": {},
   "source": [
    "Probability is how strongly we believe in an event happening expressed as a number or percentage.\n",
    "\n",
    "P(X) is the probability of event X happening.\n",
    "\n",
    "Likelihood is different from probability in that it measures the frequency of events that have already occurred.\n",
    "\n",
    "Probabilty can also be expressed as an odds O(X). To convert probability to odds, use the formula:\n",
    "O(X) = P(X) / (1 - P(X)) or P(X) = O(X) / (1 + O(X))\n",
    "\n",
    "7:3 odds means that the event will happen 7 times out of 10. The probability of the event happening is 7 / (7 + 3) = 0.7\n",
    "\n",
    ".40 probability means that the event will happen 40% of the time. The odds of the event happening is 0.4 / (1 - 0.4) = 0.67 or 2:3 odds.\n",
    "\n",
    "Statistics is the science of collecting, analyzing, and interpreting data. It is used to understand the world around us and make decisions based on data. Probability and statistics are closely related and are often used together to make predictions and decisions, but the key difference is that statistics relies on data and probability is based on beliefs about events."
   ]
  },
  {
   "cell_type": "markdown",
   "metadata": {},
   "source": [
    "For Joint Probabilities, consider a scenario where we have a fair coin and fair die, and we want to find the probability of landings heads and rolling a 6 at the same time. The probability of landing heads is 1/2 and the probability of rolling a 6 is 1/6. Since the coin and die are independent events, **the probability of both events happening at the same time is the product of the individual probabilities:** 1/2 * 1/6 = 1/12.\n",
    "\n",
    "The formula for Joint Probabilities is: P(A and B) = P(A) * P(B)"
   ]
  },
  {
   "cell_type": "markdown",
   "metadata": {},
   "source": [
    "There are also Union Probabilities which is the probability of either event A or event B happening.\n",
    "Consider a scenario with a fair die where we want the probability of landing either a 5 or a 6. The probability of landing a 5 is 1/6 and the probability of landing a 6 is 1/6. Since the events are mutually exclusive, **the probability of either event happening is the sum of the individual probabilities:** 1/6 + 1/6 = 1/3.\n",
    "\n",
    " The formula for Union Probabilities is: P(A or B) = P(A) + P(B) for **mutually exclusive events**\n",
    "\n",
    "\n",
    " We could also find the Union probability for **non-mutually exclusive events** Consider the scenario where we have a fair coin and fair die, and we want the probability of landing a heads on the coin OR a 6 on the die. The probability of landing heads is 1/2 and the probability of rolling a 6 is 1/6. Since the events are not mutually exclusive, **the probability of either event happening is the sum of the individual probabilities minus the probability of both events happening at the same time:** 1/2 + 1/6 - 1/12 = 7/12.\n",
    "\n",
    "The formula for Union Probabilities for **non-mutually exclusive events** is: P(A or B) = P(A) + P(B) - P(A and B)\n",
    "\n",
    "\n",
    "Note that the formula for Union Probabilities for non-mutually exclusive events also works for mutually exclusive events, but the P(A and B) term will be zero in that case."
   ]
  },
  {
   "cell_type": "markdown",
   "metadata": {},
   "source": []
  },
  {
   "cell_type": "markdown",
   "metadata": {},
   "source": [
    "Conditional Probability and Bayes' Theorem.\n",
    "\n",
    "Conditional probability is the probability of an event happening given that another event has already occurred. It is denoted as P(A|B) and is read as \"the probability of A given B.\" or P(A GIVEN B)\n",
    "\n",
    "For example, this is how we would represent a scenario where 25% of people own a bike, 85% of people own a car, and 10% of car owners also own a bike.\n",
    "\n",
    "P(Bike) = 0.25\n",
    "\n",
    "P(Car) = 0.85\n",
    "\n",
    "P(Bike|Car) = 0.10\n",
    "\n",
    "\n",
    "Bayes' Theorem comes into play if we now want to find the probability of owning a car given that a person owns a bike. Bayes' Theorem is a way to find conditional probabilities. It is denoted as P(A|B) = P(B|A) * P(A) / P(B)\n",
    "\n",
    "In our case, we have P(Bike) = 0.25, P(Car) = 0.85, and P(Bike|Car) = 0.10. We want to find P(Car|Bike):\n",
    "\n",
    "P(Car|Bike) = P(Bike|Car) * P(Car) / P(Bike) = 0.10 * 0.85 / 0.25 = 0.34"
   ]
  },
  {
   "cell_type": "code",
   "execution_count": 1,
   "metadata": {},
   "outputs": [
    {
     "name": "stdout",
     "output_type": "stream",
     "text": [
      "0.34\n"
     ]
    }
   ],
   "source": [
    "p_bike = .25\n",
    "p_car = .85\n",
    "p_bike_given_car = .10\n",
    "\n",
    "p_car_given_bike = (p_bike_given_car * p_car) / p_bike\n",
    "\n",
    "print(p_car_given_bike)"
   ]
  },
  {
   "cell_type": "markdown",
   "metadata": {},
   "source": [
    "Bayes' Theorem can be used to chain conditional probabilities together to find the probability of a series of events happening."
   ]
  },
  {
   "cell_type": "markdown",
   "metadata": {},
   "source": [
    "Joint and Union Conditional Probabilities:\n",
    "\n",
    "For the above scenario with cars and bikes, if i wanted to find the percent of people who own both a car and a bike, I would use the formula:\n",
    "P(Car and Bike) = P(Car|Bike) * P(Bike) = 0.34 * 0.25 = 0.085. (this makes sense read aloud. 25% of people own bikes. 34% of THOSE people own cars. 34% of 25% is 8.5%)\n",
    "\n",
    "While earlier we said the formula for joint probability was P(A and B) = P(A) * P(B), the formula for joint conditional probability is P(A and B) = P(A|B) * P(B) = P(B|A) * P(A). The second formula is the same as the first in the case of independent events where the probability of one event does not affect the probability of the other event.\n",
    "\n",
    "(note to self: need to review this)"
   ]
  },
  {
   "cell_type": "markdown",
   "metadata": {},
   "source": [
    "To calculate a union conditional probability, we would use the formula:\n",
    "P(A or B) = P(A) + P(B) - P(A|B) * P(B)"
   ]
  },
  {
   "cell_type": "markdown",
   "metadata": {},
   "source": [
    "Binomial Distribution\n",
    "\n",
    "The binomial distribution is a probability distribution that describes the number of successes in a fixed number of independent trials. It is used to model the number of successes in a fixed number of trials, where each trial has the same probability of success."
   ]
  },
  {
   "cell_type": "code",
   "execution_count": 2,
   "metadata": {},
   "outputs": [
    {
     "name": "stdout",
     "output_type": "stream",
     "text": [
      "P(X=0) = 0.00000\n",
      "P(X=1) = 0.00000\n",
      "P(X=2) = 0.00000\n",
      "P(X=3) = 0.00001\n",
      "P(X=4) = 0.00014\n",
      "P(X=5) = 0.00149\n",
      "P(X=6) = 0.01116\n",
      "P(X=7) = 0.05740\n",
      "P(X=8) = 0.19371\n",
      "P(X=9) = 0.38742\n",
      "P(X=10) = 0.34868\n"
     ]
    }
   ],
   "source": [
    "# Using SciPy for binoial distribution\n",
    "from scipy.stats import binom\n",
    "\n",
    "n = 10\n",
    "p = 0.9\n",
    "\n",
    "for k in range(n+1):\n",
    "    probability = binom.pmf(k, n, p)\n",
    "    print(f'P(X={k}) = {probability:.5f}')\n",
    "    \n",
    "# it makes sense that P(X=9) has the highest probability, since the probability of success is 0.9"
   ]
  },
  {
   "cell_type": "markdown",
   "metadata": {},
   "source": [
    "Beta Distribution\n",
    "\n",
    "The beta distribution is a continuous probability distribution that is defined on the interval [0, 1]. It is often used to model the distribution of probabilities or proportions.\n",
    "The beta distribution allows us to see the likelihood of\n",
    "different underlying probabilities for an event to occur given alpha successes and beta\n",
    "failures.\n",
    "\n",
    "For example, if we have an unfair coin whose bias is unknown. We flip the coin 10 times and get 8 heads and 2 tails. We can determine what is the likelihood that the coin will land on heads 90% of the time.\n"
   ]
  },
  {
   "cell_type": "code",
   "execution_count": 3,
   "metadata": {},
   "outputs": [
    {
     "name": "stdout",
     "output_type": "stream",
     "text": [
      "0.7748409780000002\n",
      "0.22515902199999982\n"
     ]
    }
   ],
   "source": [
    "from scipy.stats import beta\n",
    "\n",
    "a = 8\n",
    "b = 2\n",
    "\n",
    "p = beta.cdf(0.9, a, b)\n",
    "print(p)\n",
    "#p = 0.77 means that the probability of the true value of p being less than 0.9 is 0.775. That means there's a 22.5% chance that the coin's bias is not as high as 0.9\n",
    "\n",
    "p2 = 1.0 - beta.cdf(0.9, a, b)\n",
    "print(p2)"
   ]
  },
  {
   "cell_type": "markdown",
   "metadata": {},
   "source": [
    "The more trials you have the narrower the distribution will be and the more confident you can be in the underlying probability."
   ]
  },
  {
   "cell_type": "code",
   "execution_count": 4,
   "metadata": {},
   "outputs": [
    {
     "name": "stdout",
     "output_type": "stream",
     "text": [
      "0.06371744445228578\n"
     ]
    }
   ],
   "source": [
    "from scipy.stats import beta\n",
    "a = 24\n",
    "b = 6\n",
    "p = 1.0 - beta.cdf(.90, a, b)\n",
    "print(p)\n",
    "# notice that the probability of the true value of p being less than 0.9 is greater now than \n",
    "# when we only had 10 trials, even though the ratio of successes to failures is the same."
   ]
  },
  {
   "cell_type": "markdown",
   "metadata": {},
   "source": [
    "Using Beta Distribution we can also get the probability of a range of probabilities for an event to occur like between .8 and .9."
   ]
  },
  {
   "cell_type": "code",
   "execution_count": 5,
   "metadata": {},
   "outputs": [
    {
     "name": "stdout",
     "output_type": "stream",
     "text": [
      "0.33863336199999994\n"
     ]
    }
   ],
   "source": [
    "from scipy.stats import beta\n",
    "a = 8\n",
    "b = 2\n",
    "p = beta.cdf(.90, a, b) - beta.cdf(.80, a, b)\n",
    "\n",
    "print(p)\n",
    "# p=0.3386 means that there's a 33.86% chance that the coin has a bias between 0.8 and 0.9"
   ]
  },
  {
   "cell_type": "markdown",
   "metadata": {},
   "source": [
    "Exercises\n",
    "1. There is a 30% chance of rain today, and a 40% chance your umbrella order will\n",
    "arrive on time. You are eager to walk in the rain today and cannot do so without\n",
    "either!\n",
    "What is the probability it will rain AND your umbrella will arrive?\n",
    "2. There is a 30% chance of rain today, and a 40% chance your umbrella order will\n",
    "arrive on time.\n",
    "You will be able to run errands only if it does not rain or your umbrella arrives.\n",
    "What is the probability it will not rain OR your umbrella arrives?\n",
    "3. There is a 30% chance of rain today, and a 40% chance your umbrella order will\n",
    "arrive on time.\n",
    "However, you found out if it rains there is only a 20% chance your umbrella will\n",
    "arrive on time.\n",
    "What is the probability it will rain AND your umbrella will arrive on time?\n",
    "4. You have 137 passengers booked on a flight from Las Vegas to Dallas. However, it\n",
    "is Las Vegas on a Sunday morning and you estimate each passenger is 40% likely\n",
    "to not show up.\n",
    "You are trying to figure out how many seats to overbook so the plane does not fly\n",
    "empty.\n",
    "How likely is it at least 50 passengers will not show up?\n",
    "5. You flipped a coin 19 times and got heads 15 times and tails 4 times.\n",
    "Do you think this coin has any good probability of being fair? Why or why not?"
   ]
  },
  {
   "cell_type": "code",
   "execution_count": 6,
   "metadata": {},
   "outputs": [
    {
     "name": "stdout",
     "output_type": "stream",
     "text": [
      "0.12\n"
     ]
    }
   ],
   "source": [
    "# Question 1\n",
    "p_rain = 0.3\n",
    "p_umbrella = 0.4\n",
    "# joint probability for two events that have no effect on each other means multiply\n",
    "p_rain_and_umbrella = p_rain * p_umbrella\n",
    "print(p_rain_and_umbrella)"
   ]
  },
  {
   "cell_type": "code",
   "execution_count": 7,
   "metadata": {},
   "outputs": [
    {
     "name": "stdout",
     "output_type": "stream",
     "text": [
      "0.82\n",
      "0.82\n"
     ]
    }
   ],
   "source": [
    "# Question 2\n",
    "# there's a 40% chance my umbrella arrives. That's 0.4\n",
    "# In the 60% chance that it doesn't, there's a 70% chance it doesn't rain. 0.6 * 0.7 = 0.42\n",
    "p_umbrella = 0.4\n",
    "p_rain = 0.3\n",
    "p_not_rain = 1 - p_rain\n",
    "\n",
    "p_umbrella_or_not_rain = p_umbrella + ((1 - p_umbrella) * p_not_rain)\n",
    "print(f\"{p_umbrella_or_not_rain:.2f}\")\n",
    "\n",
    "# what I did above is not what the textbook teaches.\n",
    "# The proper equation is P(A or B) = P(A) + P(B) - P(A and B)\n",
    "p_umbrella_or_not_rain = p_umbrella + p_not_rain - (p_umbrella * p_not_rain)\n",
    "print(f\"{p_umbrella_or_not_rain:.2f}\")"
   ]
  },
  {
   "cell_type": "code",
   "execution_count": 8,
   "metadata": {},
   "outputs": [
    {
     "name": "stdout",
     "output_type": "stream",
     "text": [
      "0.06\n"
     ]
    }
   ],
   "source": [
    "# Question 3\n",
    "p_rain = 0.3 # A\n",
    "p_umbrella = 0.4 # B\n",
    "p_umbrella_given_rain = 0.2 # B | A\n",
    "\n",
    "# The probabilty both will happen is now a joint conditional. 30% * 20% should be 6%\n",
    "# P(B and A)        =  P(A)  *     P(B | A)\n",
    "\n",
    "# P (A AND B) = P (B) × P (A|B)  OR   P(A and B) == P(A) * P(B | A)\n",
    "\n",
    "\n",
    "## A * B | A\n",
    "\n",
    "p_umbrella_and_rain = p_rain * p_umbrella_given_rain\n",
    "print(p_umbrella_and_rain)"
   ]
  },
  {
   "cell_type": "code",
   "execution_count": 9,
   "metadata": {},
   "outputs": [
    {
     "name": "stdout",
     "output_type": "stream",
     "text": [
      "0.8220955881474251\n"
     ]
    }
   ],
   "source": [
    "#Question 4\n",
    "# this is beta distribution. We need successes, failures, and probabilty. The number we are testing is 50 failures given a 40% likelihood of flaking\n",
    "from scipy.stats import beta\n",
    "# 50 no show (aka successes), num passengers (aka trials), probability of no show\n",
    "likelihood = 0.4\n",
    "no_show = 50\n",
    "num_passengers = 137\n",
    "\n",
    "at_least_50_no_shows = 0.0\n",
    "for k in range(no_show, num_passengers):\n",
    "    #                                (successes, num trials, probability) \n",
    "    at_least_50_no_shows += binom.pmf(k, num_passengers, likelihood)\n",
    "    \n",
    "print(at_least_50_no_shows)\n",
    "\n",
    "\n",
    "# p = .82 means that there is an 82% chance that we have at least 50 successes (no shows) this is found by \n",
    "#      summing the % chance of successes of each number from the target min success to target max successes"
   ]
  },
  {
   "cell_type": "code",
   "execution_count": 10,
   "metadata": {},
   "outputs": [
    {
     "name": "stdout",
     "output_type": "stream",
     "text": [
      "P(X=0) = 1.00000\n",
      "P(X=1) = 0.99996\n",
      "P(X=2) = 0.99964\n",
      "P(X=3) = 0.99779\n",
      "P(X=4) = 0.99039\n",
      "P(X=5) = 0.96822\n",
      "P(X=6) = 0.91647\n",
      "P(X=7) = 0.82036\n",
      "P(X=8) = 0.67620\n",
      "P(X=9) = 0.50000\n",
      "P(X=10) = 0.32380\n",
      "P(X=11) = 0.17964\n",
      "P(X=12) = 0.08353\n",
      "P(X=13) = 0.03178\n",
      "P(X=14) = 0.00961\n",
      "P(X=15) = 0.00221\n",
      "P(X=16) = 0.00036\n",
      "P(X=17) = 0.00004\n",
      "P(X=18) = 0.00000\n",
      "P(X=19) = -0.00000\n",
      "0.0037689208984375\n"
     ]
    }
   ],
   "source": [
    "# Question 5\n",
    "\n",
    "# we need to run the binomial distribution in a forloop i think\n",
    "flips = 19\n",
    "chance = 0.5\n",
    "x_sum = 0\n",
    "probability = 0\n",
    "for heads in range(flips+1):\n",
    "    probability += binom.pmf(heads, flips, chance)\n",
    "    print(f'P(X={heads}) = {1 - probability:.5f}')\n",
    "    # if heads >= 15:\n",
    "    #     x_sum += probability\n",
    "# print(x_sum)\n",
    "\n",
    "#this method shows that it is very unlikely the coin is fair. Let's use beta distribution though\n",
    "\n",
    "chance = .5\n",
    "# print(\"chance\", chance)\n",
    "heads = 15\n",
    "tails = 4\n",
    "\n",
    "p = beta.cdf(chance, heads, tails)\n",
    "print(p)\n",
    "# again, it looks like the coin is almost certainly unfair"
   ]
  },
  {
   "cell_type": "markdown",
   "metadata": {},
   "source": [
    "Extra Credit:\n",
    "\n",
    "1. There is a 25% chance of snow today, and a 35% chance your package will arrive on time. However, if it snows, there is only a 15% chance your package will arrive on time.\n",
    "\n",
    "What is the probability it will snow AND your package will arrive on time?\n",
    "\n"
   ]
  },
  {
   "cell_type": "code",
   "execution_count": 12,
   "metadata": {},
   "outputs": [
    {
     "name": "stdout",
     "output_type": "stream",
     "text": [
      "0.0375\n"
     ]
    }
   ],
   "source": [
    "p_snow = .25 # A\n",
    "p_package = .35 # B\n",
    "p_package_given_snow = .15 # B | A\n",
    "\n",
    "p_snow_and_package = p_snow * p_package_given_snow\n",
    "print(p_snow_and_package)"
   ]
  }
 ],
 "metadata": {
  "kernelspec": {
   "display_name": "maths",
   "language": "python",
   "name": "python3"
  },
  "language_info": {
   "codemirror_mode": {
    "name": "ipython",
    "version": 3
   },
   "file_extension": ".py",
   "mimetype": "text/x-python",
   "name": "python",
   "nbconvert_exporter": "python",
   "pygments_lexer": "ipython3",
   "version": "3.12.3"
  }
 },
 "nbformat": 4,
 "nbformat_minor": 2
}
