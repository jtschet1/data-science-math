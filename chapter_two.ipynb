{
 "cells": [
  {
   "cell_type": "markdown",
   "metadata": {},
   "source": [
    "Probability is how strongly we believe in an event happening expressed as a number or percentage.\n",
    "\n",
    "P(X) is the probability of event X happening.\n",
    "\n",
    "Likelihood is different from probability in that it measures the frequency of events that have already occurred.\n",
    "\n",
    "Probabilty can also be expressed as an odds O(X). To convert probability to odds, use the formula:\n",
    "O(X) = P(X) / (1 - P(X)) or P(X) = O(X) / (1 + O(X))\n",
    "\n",
    "7:3 odds means that the event will happen 7 times out of 10. The probability of the event happening is 7 / (7 + 3) = 0.7\n",
    "\n",
    ".40 probability means that the event will happen 40% of the time. The odds of the event happening is 0.4 / (1 - 0.4) = 0.67 or 2:3 odds.\n",
    "\n",
    "Statistics is the science of collecting, analyzing, and interpreting data. It is used to understand the world around us and make decisions based on data. Probability and statistics are closely related and are often used together to make predictions and decisions, but the key difference is that statistics relies on data and probability is based on beliefs about events."
   ]
  },
  {
   "cell_type": "markdown",
   "metadata": {},
   "source": [
    "For Joint Probabilities, consider a scenario where we have a fair coin and fair die, and we want to find the probability of landings heads and rolling a 6 at the same time. The probability of landing heads is 1/2 and the probability of rolling a 6 is 1/6. Since the coin and die are independent events, **the probability of both events happening at the same time is the product of the individual probabilities:** 1/2 * 1/6 = 1/12.\n",
    "\n",
    "The formula for Joint Probabilities is: P(A and B) = P(A) * P(B)"
   ]
  },
  {
   "cell_type": "markdown",
   "metadata": {},
   "source": [
    "There are also Union Probabilities which is the probability of either event A or event B happening.\n",
    "Consider a scenario with a fair die where we want the probability of landing either a 5 or a 6. The probability of landing a 5 is 1/6 and the probability of landing a 6 is 1/6. Since the events are mutually exclusive, **the probability of either event happening is the sum of the individual probabilities:** 1/6 + 1/6 = 1/3.\n",
    "\n",
    " The formula for Union Probabilities is: P(A or B) = P(A) + P(B) for **mutually exclusive events**\n",
    "\n",
    "\n",
    " We could also find the Union probability for **non-mutually exclusive events** Consider the scenario where we have a fair coin and fair die, and we want the probability of landing a heads on the coin OR a 6 on the die. The probability of landing heads is 1/2 and the probability of rolling a 6 is 1/6. Since the events are not mutually exclusive, **the probability of either event happening is the sum of the individual probabilities minus the probability of both events happening at the same time:** 1/2 + 1/6 - 1/12 = 7/12.\n",
    "\n",
    "The formula for Union Probabilities for **non-mutually exclusive events** is: P(A or B) = P(A) + P(B) - P(A and B)\n",
    "\n",
    "\n",
    "Note that the formula for Union Probabilities for non-mutually exclusive events also works for mutually exclusive events, but the P(A and B) term will be zero in that case."
   ]
  },
  {
   "cell_type": "markdown",
   "metadata": {},
   "source": []
  },
  {
   "cell_type": "markdown",
   "metadata": {},
   "source": [
    "Conditional Probability and Bayes' Theorem.\n",
    "\n",
    "Conditional probability is the probability of an event happening given that another event has already occurred. It is denoted as P(A|B) and is read as \"the probability of A given B.\" or P(A GIVEN B)\n",
    "\n",
    "For example, this is how we would represent a scenario where 25% of people own a bike, 85% of people own a car, and 10% of car owners also own a bike.\n",
    "\n",
    "P(Bike) = 0.25\n",
    "\n",
    "P(Car) = 0.85\n",
    "\n",
    "P(Bike|Car) = 0.10\n",
    "\n",
    "\n",
    "Bayes' Theorem comes into play if we now want to find the probability of owning a car given that a person owns a bike. Bayes' Theorem is a way to find conditional probabilities. It is denoted as P(A|B) = P(B|A) * P(A) / P(B)\n",
    "\n",
    "In our case, we have P(Bike) = 0.25, P(Car) = 0.85, and P(Bike|Car) = 0.10. We want to find P(Car|Bike):\n",
    "\n",
    "P(Car|Bike) = P(Bike|Car) * P(Car) / P(Bike) = 0.10 * 0.85 / 0.25 = 0.34"
   ]
  },
  {
   "cell_type": "code",
   "execution_count": 1,
   "metadata": {},
   "outputs": [
    {
     "name": "stdout",
     "output_type": "stream",
     "text": [
      "0.34\n"
     ]
    }
   ],
   "source": [
    "p_bike = .25\n",
    "p_car = .85\n",
    "p_bike_given_car = .10\n",
    "\n",
    "p_car_given_bike = (p_bike_given_car * p_car) / p_bike\n",
    "\n",
    "print(p_car_given_bike)"
   ]
  },
  {
   "cell_type": "markdown",
   "metadata": {},
   "source": [
    "Bayes' Theorem can be used to chain conditional probabilities together to find the probability of a series of events happening."
   ]
  },
  {
   "cell_type": "markdown",
   "metadata": {},
   "source": [
    "Joint and Union Conditional Probabilities:\n",
    "\n",
    "For the above scenario with cars and bikes, if i wanted to find the percent of people who own both a car and a bike, I would use the formula:\n",
    "P(Car and Bike) = P(Car|Bike) * P(Bike) = 0.34 * 0.25 = 0.085. (this makes sense read aloud. 25% of people own bikes. 34% of THOSE people own cars. 34% of 25% is 8.5%)\n",
    "\n",
    "While earlier we said the formula for joint probability was P(A and B) = P(A) * P(B), the formula for joint conditional probability is P(A and B) = P(A|B) * P(B) = P(B|A) * P(A). The second formula is the same as the first in the case of independent events where the probability of one event does not affect the probability of the other event.\n",
    "\n",
    "(note to self: need to review this)"
   ]
  },
  {
   "cell_type": "markdown",
   "metadata": {},
   "source": [
    "To calculate a union conditional probability, we would use the formula:\n",
    "P(A or B) = P(A) + P(B) - P(A|B) * P(B)"
   ]
  },
  {
   "cell_type": "code",
   "execution_count": null,
   "metadata": {},
   "outputs": [],
   "source": []
  }
 ],
 "metadata": {
  "kernelspec": {
   "display_name": "maths",
   "language": "python",
   "name": "python3"
  },
  "language_info": {
   "codemirror_mode": {
    "name": "ipython",
    "version": 3
   },
   "file_extension": ".py",
   "mimetype": "text/x-python",
   "name": "python",
   "nbconvert_exporter": "python",
   "pygments_lexer": "ipython3",
   "version": "3.12.3"
  }
 },
 "nbformat": 4,
 "nbformat_minor": 2
}
